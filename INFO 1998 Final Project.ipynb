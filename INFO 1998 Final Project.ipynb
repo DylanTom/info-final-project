{
 "cells": [
  {
   "cell_type": "markdown",
   "id": "6f115524",
   "metadata": {},
   "source": [
    "# INFO 1998 Final Project"
   ]
  },
  {
   "cell_type": "markdown",
   "id": "31b3173f",
   "metadata": {},
   "source": [
    "## Title of Project"
   ]
  },
  {
   "cell_type": "markdown",
   "id": "5195c15c",
   "metadata": {},
   "source": [
    "### Grant Rinehimer, Benjamin Tang, Dylan Tom"
   ]
  },
  {
   "cell_type": "code",
   "execution_count": 3,
   "id": "929a8c6f",
   "metadata": {},
   "outputs": [],
   "source": [
    "#Import Packages"
   ]
  },
  {
   "cell_type": "markdown",
   "id": "8f199d77",
   "metadata": {},
   "source": [
    "Motivation for project"
   ]
  },
  {
   "cell_type": "code",
   "execution_count": 2,
   "id": "90fafd6a",
   "metadata": {},
   "outputs": [],
   "source": [
    "#Import Dataset"
   ]
  },
  {
   "cell_type": "markdown",
   "id": "cceaaf32",
   "metadata": {},
   "source": [
    "## Data Preprocessing and Cleaning"
   ]
  },
  {
   "cell_type": "code",
   "execution_count": null,
   "id": "27e7dbd4",
   "metadata": {},
   "outputs": [],
   "source": [
    "#Show sample dataset"
   ]
  },
  {
   "cell_type": "markdown",
   "id": "bcc2d711",
   "metadata": {},
   "source": [
    "## Visualization"
   ]
  },
  {
   "cell_type": "code",
   "execution_count": 4,
   "id": "7ae04257",
   "metadata": {},
   "outputs": [],
   "source": [
    "#Visualization"
   ]
  },
  {
   "cell_type": "markdown",
   "id": "ed150116",
   "metadata": {},
   "source": [
    "## Machine Learning "
   ]
  },
  {
   "cell_type": "code",
   "execution_count": null,
   "id": "1cff63b8",
   "metadata": {},
   "outputs": [],
   "source": []
  }
 ],
 "metadata": {
  "kernelspec": {
   "display_name": "Python 3",
   "language": "python",
   "name": "python3"
  },
  "language_info": {
   "codemirror_mode": {
    "name": "ipython",
    "version": 3
   },
   "file_extension": ".py",
   "mimetype": "text/x-python",
   "name": "python",
   "nbconvert_exporter": "python",
   "pygments_lexer": "ipython3",
   "version": "3.8.8"
  }
 },
 "nbformat": 4,
 "nbformat_minor": 5
}
