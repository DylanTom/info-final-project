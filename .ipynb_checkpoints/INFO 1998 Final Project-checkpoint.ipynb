{
 "cells": [
  {
   "cell_type": "markdown",
   "id": "6f115524",
   "metadata": {},
   "source": [
    "# INFO 1998 Final Project"
   ]
  },
  {
   "cell_type": "markdown",
   "id": "31b3173f",
   "metadata": {},
   "source": [
    "## Title of Project"
   ]
  },
  {
   "cell_type": "markdown",
   "id": "5195c15c",
   "metadata": {},
   "source": [
    "### Benjamin Tang and Dylan Tom"
   ]
  },
  {
   "cell_type": "code",
   "execution_count": 1,
   "id": "929a8c6f",
   "metadata": {},
   "outputs": [],
   "source": [
    "#Import Packages\n",
    "import pandas as pd\n",
    "import numpy as np\n",
    "import matplotlib.pyplot as plt"
   ]
  },
  {
   "cell_type": "markdown",
   "id": "8f199d77",
   "metadata": {},
   "source": [
    "https://www.kaggle.com/austinreese/craigslist-carstrucks-data"
   ]
  },
  {
   "cell_type": "code",
   "execution_count": 9,
   "id": "90fafd6a",
   "metadata": {},
   "outputs": [],
   "source": [
    "#Import Dataset\n",
    "data = pd.read_csv('vehicles.csv')\n",
    "df = pd.DataFrame(data)"
   ]
  },
  {
   "cell_type": "markdown",
   "id": "cceaaf32",
   "metadata": {},
   "source": [
    "## Data Preprocessing and Cleaning"
   ]
  },
  {
   "cell_type": "code",
   "execution_count": 11,
   "id": "6625aa99",
   "metadata": {},
   "outputs": [
    {
     "data": {
      "text/plain": [
       "(426880, 26)"
      ]
     },
     "execution_count": 11,
     "metadata": {},
     "output_type": "execute_result"
    }
   ],
   "source": [
    "df.shape"
   ]
  },
  {
   "cell_type": "code",
   "execution_count": 22,
   "id": "27e7dbd4",
   "metadata": {},
   "outputs": [],
   "source": [
    "#Show sample dataset\n",
    "df = df[df['year'].notna()]"
   ]
  },
  {
   "cell_type": "code",
   "execution_count": 25,
   "id": "6059940d",
   "metadata": {},
   "outputs": [
    {
     "data": {
      "text/plain": [
       "id                                                     7314848129\n",
       "url             https://orangecounty.craigslist.org/ctd/d/tust...\n",
       "region                                              orange county\n",
       "region_url                    https://orangecounty.craigslist.org\n",
       "price                                                       19990\n",
       "year                                                       2021.0\n",
       "manufacturer                                                  kia\n",
       "model                                            soul lx wagon 4d\n",
       "condition                                                    good\n",
       "cylinders                                                     NaN\n",
       "fuel                                                          gas\n",
       "odometer                                                   1943.0\n",
       "title_status                                                clean\n",
       "transmission                                                other\n",
       "VIN                                             KNDJ23AU1M7747914\n",
       "drive                                                         fwd\n",
       "size                                                          NaN\n",
       "type                                                        wagon\n",
       "paint_color                                                silver\n",
       "image_url       https://images.craigslist.org/00s0s_fBtrllacOO...\n",
       "description     Carvana is the safer way to buy a car During t...\n",
       "county                                                        NaN\n",
       "state                                                          ca\n",
       "lat                                                         33.74\n",
       "long                                                      -117.82\n",
       "posting_date                             2021-04-30T09:11:16-0700\n",
       "Name: 42665, dtype: object"
      ]
     },
     "execution_count": 25,
     "metadata": {},
     "output_type": "execute_result"
    }
   ],
   "source": [
    "df.iloc[42450]"
   ]
  },
  {
   "cell_type": "markdown",
   "id": "bcc2d711",
   "metadata": {},
   "source": [
    "## Visualization"
   ]
  },
  {
   "cell_type": "code",
   "execution_count": 4,
   "id": "7ae04257",
   "metadata": {},
   "outputs": [],
   "source": [
    "#Visualization"
   ]
  },
  {
   "cell_type": "markdown",
   "id": "ed150116",
   "metadata": {},
   "source": [
    "## Machine Learning "
   ]
  },
  {
   "cell_type": "code",
   "execution_count": null,
   "id": "1cff63b8",
   "metadata": {},
   "outputs": [],
   "source": []
  }
 ],
 "metadata": {
  "kernelspec": {
   "display_name": "Python 3",
   "language": "python",
   "name": "python3"
  },
  "language_info": {
   "codemirror_mode": {
    "name": "ipython",
    "version": 3
   },
   "file_extension": ".py",
   "mimetype": "text/x-python",
   "name": "python",
   "nbconvert_exporter": "python",
   "pygments_lexer": "ipython3",
   "version": "3.8.8"
  }
 },
 "nbformat": 4,
 "nbformat_minor": 5
}
