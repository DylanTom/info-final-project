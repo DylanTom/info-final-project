{
 "cells": [
  {
   "cell_type": "markdown",
   "id": "6f115524",
   "metadata": {},
   "source": [
    "# INFO 1998 Final Project"
   ]
  },
  {
   "cell_type": "markdown",
   "id": "31b3173f",
   "metadata": {},
   "source": [
    "## Title of Project"
   ]
  },
  {
   "cell_type": "markdown",
   "id": "5195c15c",
   "metadata": {},
   "source": [
    "### Benjamin Tang and Dylan Tom"
   ]
  },
  {
   "cell_type": "code",
   "execution_count": 1,
   "id": "929a8c6f",
   "metadata": {},
   "outputs": [],
   "source": [
    "#Import Packages\n",
    "import pandas as pd\n",
    "import numpy as np\n",
    "import matplotlib.pyplot as plt"
   ]
  },
  {
   "cell_type": "markdown",
   "id": "8f199d77",
   "metadata": {},
   "source": [
    "https://www.kaggle.com/austinreese/craigslist-carstrucks-data"
   ]
  },
  {
   "cell_type": "code",
   "execution_count": 7,
   "id": "90fafd6a",
   "metadata": {},
   "outputs": [
    {
     "data": {
      "text/plain": [
       "(426880, 26)"
      ]
     },
     "execution_count": 7,
     "metadata": {},
     "output_type": "execute_result"
    }
   ],
   "source": [
    "#Import Dataset\n",
    "data = pd.read_csv('vehicles.csv')\n",
    "df = pd.DataFrame(data)\n",
    "df.shape"
   ]
  },
  {
   "cell_type": "markdown",
   "id": "cceaaf32",
   "metadata": {},
   "source": [
    "## Data Preprocessing and Cleaning"
   ]
  },
  {
   "cell_type": "code",
   "execution_count": 24,
   "id": "27e7dbd4",
   "metadata": {},
   "outputs": [
    {
     "data": {
      "text/plain": [
       "['id',\n",
       " 'region',\n",
       " 'price',\n",
       " 'year',\n",
       " 'manufacturer',\n",
       " 'model',\n",
       " 'condition',\n",
       " 'cylinders',\n",
       " 'fuel',\n",
       " 'odometer',\n",
       " 'title_status',\n",
       " 'transmission',\n",
       " 'VIN',\n",
       " 'drive',\n",
       " 'size',\n",
       " 'type',\n",
       " 'paint_color',\n",
       " 'state',\n",
       " 'lat',\n",
       " 'long',\n",
       " 'posting_date']"
      ]
     },
     "execution_count": 24,
     "metadata": {},
     "output_type": "execute_result"
    }
   ],
   "source": [
    "#Removed columns that did not add to the data\n",
    "df_edited = df.drop(['url','region_url','image_url','description','county'], axis=1)\n",
    "list(df_edited.columns)"
   ]
  },
  {
   "cell_type": "code",
   "execution_count": 44,
   "id": "6059940d",
   "metadata": {},
   "outputs": [
    {
     "data": {
      "text/plain": [
       "(246585, 21)"
      ]
     },
     "execution_count": 44,
     "metadata": {},
     "output_type": "execute_result"
    }
   ],
   "source": [
    "#need to choose which columns to drop\n",
    "df_final = df_edited.dropna(subset = ['year','odometer','cylinders'])\n",
    "df_final.reset_index(drop=True, inplace=True)\n",
    "df_final.shape"
   ]
  },
  {
   "cell_type": "code",
   "execution_count": 36,
   "id": "2589615b",
   "metadata": {},
   "outputs": [
    {
     "data": {
      "text/plain": [
       "id                            7304776863\n",
       "region                  central michigan\n",
       "price                              43990\n",
       "year                              2013.0\n",
       "manufacturer                   chevrolet\n",
       "model               corvette grand sport\n",
       "condition                           good\n",
       "cylinders                    8 cylinders\n",
       "fuel                                 gas\n",
       "odometer                          7803.0\n",
       "title_status                       clean\n",
       "transmission                       other\n",
       "VIN                    1G1YW2DW6D5102237\n",
       "drive                                rwd\n",
       "size                                 NaN\n",
       "type                               coupe\n",
       "paint_color                        black\n",
       "state                                 mi\n",
       "lat                                 42.7\n",
       "long                              -84.55\n",
       "posting_date    2021-04-10T13:51:14-0400\n",
       "Name: 195705, dtype: object"
      ]
     },
     "execution_count": 36,
     "metadata": {},
     "output_type": "execute_result"
    }
   ],
   "source": [
    "df_final.iloc[113134]"
   ]
  },
  {
   "cell_type": "code",
   "execution_count": 47,
   "id": "630f17c4",
   "metadata": {},
   "outputs": [
    {
     "name": "stderr",
     "output_type": "stream",
     "text": [
      "<ipython-input-47-394c37e827c6>:6: SettingWithCopyWarning: \n",
      "A value is trying to be set on a copy of a slice from a DataFrame\n",
      "\n",
      "See the caveats in the documentation: https://pandas.pydata.org/pandas-docs/stable/user_guide/indexing.html#returning-a-view-versus-a-copy\n",
      "  df_final['num_cylinders'][i] = string[0]\n"
     ]
    }
   ],
   "source": [
    "#convert categorical data to numerical data\n",
    "df_final['num_cylinders'] = \"\"\n",
    "\n",
    "for i in range(len(df_final)):\n",
    "    string = df_final['cylinders'][i]\n",
    "    df_final['num_cylinders'][i] = string[0]"
   ]
  },
  {
   "cell_type": "code",
   "execution_count": 50,
   "id": "cecdc080",
   "metadata": {},
   "outputs": [
    {
     "data": {
      "text/plain": [
       "id               246585\n",
       "region              404\n",
       "price             11523\n",
       "year                110\n",
       "manufacturer         42\n",
       "model             21915\n",
       "condition             6\n",
       "cylinders             8\n",
       "fuel                  5\n",
       "odometer          73701\n",
       "title_status          6\n",
       "transmission          3\n",
       "VIN               69749\n",
       "drive                 3\n",
       "size                  4\n",
       "type                 13\n",
       "paint_color          12\n",
       "state                51\n",
       "lat               43077\n",
       "long              43473\n",
       "posting_date     231476\n",
       "num_cylinders         7\n",
       "dtype: int64"
      ]
     },
     "execution_count": 50,
     "metadata": {},
     "output_type": "execute_result"
    }
   ],
   "source": [
    "#get number of unique values in manufacturer, condition, fuel,type, paint_color, drive\n",
    "df_final.nunique(axis=0)"
   ]
  },
  {
   "cell_type": "code",
   "execution_count": 58,
   "id": "359ab348",
   "metadata": {},
   "outputs": [
    {
     "name": "stdout",
     "output_type": "stream",
     "text": [
      "unique conditions:  ['good' 'excellent' 'fair' 'like new' nan 'new' 'salvage']\n",
      "unique drive:  [nan 'rwd' '4wd' 'fwd']\n",
      "unique fuel:  ['gas' 'diesel' 'other' 'hybrid' nan 'electric']\n",
      "unique transmission:  ['other' 'automatic' 'manual' nan]\n",
      "unique type:  ['pickup' 'truck' 'other' nan 'coupe' 'mini-van' 'SUV' 'sedan' 'hatchback'\n",
      " 'offroad' 'bus' 'van' 'convertible' 'wagon']\n",
      "unique paint:  ['white' 'blue' 'red' 'black' 'silver' 'grey' nan 'brown' 'yellow' 'green'\n",
      " 'custom' 'purple' 'orange']\n"
     ]
    }
   ],
   "source": [
    "print('unique conditions: ', df_final.condition.unique())\n",
    "print('unique drive: ', df_final.drive.unique())\n",
    "print('unique fuel: ', df_final.fuel.unique())\n",
    "print('unique transmission: ', df_final.transmission.unique())\n",
    "print('unique type: ', df_final.type.unique())\n",
    "print('unique paint: ', df_final.paint_color.unique())"
   ]
  },
  {
   "cell_type": "markdown",
   "id": "bcc2d711",
   "metadata": {},
   "source": [
    "## Visualization"
   ]
  },
  {
   "cell_type": "code",
   "execution_count": 4,
   "id": "7ae04257",
   "metadata": {},
   "outputs": [],
   "source": [
    "#Visualization"
   ]
  },
  {
   "cell_type": "markdown",
   "id": "ed150116",
   "metadata": {},
   "source": [
    "## Machine Learning "
   ]
  },
  {
   "cell_type": "code",
   "execution_count": null,
   "id": "1cff63b8",
   "metadata": {},
   "outputs": [],
   "source": []
  }
 ],
 "metadata": {
  "kernelspec": {
   "display_name": "Python 3",
   "language": "python",
   "name": "python3"
  },
  "language_info": {
   "codemirror_mode": {
    "name": "ipython",
    "version": 3
   },
   "file_extension": ".py",
   "mimetype": "text/x-python",
   "name": "python",
   "nbconvert_exporter": "python",
   "pygments_lexer": "ipython3",
   "version": "3.8.8"
  }
 },
 "nbformat": 4,
 "nbformat_minor": 5
}
